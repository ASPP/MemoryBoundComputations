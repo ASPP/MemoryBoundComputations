{
 "cells": [
  {
   "cell_type": "code",
   "execution_count": null,
   "metadata": {},
   "outputs": [],
   "source": [
    "import numpy as np"
   ]
  },
  {
   "cell_type": "code",
   "execution_count": null,
   "metadata": {},
   "outputs": [],
   "source": [
    "# create a collection of 30 time series, each of length 600,000 samples\n",
    "# in real life, this data comes from an experiment/simulation\n",
    "time_series = []\n",
    "for idx in range(30):\n",
    "    time_series.append(np.zeros(600000, dtype='float64'))"
   ]
  },
  {
   "cell_type": "code",
   "execution_count": null,
   "metadata": {},
   "outputs": [],
   "source": [
    "# how big is one time series?\n",
    "ts_size = time_series[0].nbytes/2**20\n",
    "print('Size of one time series (MB):', ts_size)\n",
    "print('Size of collection (MB):', ts_size*30)"
   ]
  },
  {
   "cell_type": "code",
   "execution_count": null,
   "metadata": {},
   "outputs": [],
   "source": [
    "# let's load the collection in one big array\n",
    "def load_data_contiguous(collection):\n",
    "    N = len(collection)\n",
    "    S = len(collection[0])\n",
    "    x = np.zeros((N, S), dtype='float64')\n",
    "    # in real life, collection is goind to be a generator reading data from disk?\n",
    "    for i, ts in enumerate(collection):\n",
    "        x[i,:] = ts\n",
    "    return x"
   ]
  },
  {
   "cell_type": "code",
   "execution_count": null,
   "metadata": {},
   "outputs": [],
   "source": [
    "# let's load the collection in one big array\n",
    "def load_data_flipped(collection):\n",
    "    N = len(collection)\n",
    "    S = len(collection[0])\n",
    "    x = np.zeros((S, N), dtype='float64')\n",
    "    # in real life, collection is goind to be a generator reading data from disk?\n",
    "    for i, ts in enumerate(collection):\n",
    "        x[:,i] = ts\n",
    "    return x"
   ]
  },
  {
   "cell_type": "code",
   "execution_count": null,
   "metadata": {},
   "outputs": [],
   "source": [
    "%timeit load_data_contiguous(time_series)"
   ]
  },
  {
   "cell_type": "code",
   "execution_count": null,
   "metadata": {},
   "outputs": [],
   "source": [
    "%timeit load_data_flipped(time_series)"
   ]
  }
 ],
 "metadata": {
  "kernelspec": {
   "display_name": "Python 3",
   "language": "python",
   "name": "python3"
  },
  "language_info": {
   "codemirror_mode": {
    "name": "ipython",
    "version": 3
   },
   "file_extension": ".py",
   "mimetype": "text/x-python",
   "name": "python",
   "nbconvert_exporter": "python",
   "pygments_lexer": "ipython3",
   "version": "3.6.4"
  }
 },
 "nbformat": 4,
 "nbformat_minor": 2
}
